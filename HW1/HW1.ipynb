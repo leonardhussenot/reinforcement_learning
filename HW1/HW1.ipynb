{
 "cells": [
  {
   "cell_type": "markdown",
   "metadata": {},
   "source": [
    "# <center><font color=purple> Reinforcement Learning : Assigment 1 \n",
    "### <center> Léonard Hussenot"
   ]
  },
  {
   "cell_type": "code",
   "execution_count": 1,
   "metadata": {
    "collapsed": false
   },
   "outputs": [],
   "source": [
    "%matplotlib inline\n",
    "import matplotlib.pyplot as plt\n",
    "import numpy as np"
   ]
  },
  {
   "cell_type": "markdown",
   "metadata": {},
   "source": [
    "## <font color=green> I] Dynamic Programming"
   ]
  },
  {
   "cell_type": "markdown",
   "metadata": {},
   "source": [
    "### Q1) defining the model"
   ]
  },
  {
   "cell_type": "markdown",
   "metadata": {},
   "source": [
    "\n",
    " A representation of the MDP in matrix form $MDP(S, A_s, P, R, \\gamma)$ where\n",
    " - $S$ is the number of states\n",
    " - $A_s$ contains the list of action indices available in each state, i.e.,\n",
    "    $A_s[state]$ is a list representing the index of actions available in such state\n",
    " - $P$ the transition matrix of dimension $S * \\max{|A_s|} * S$\n",
    " - $R$ the reward matrix of dimension $S * \\max{|A_s|}$"
   ]
  },
  {
   "cell_type": "code",
   "execution_count": 4,
   "metadata": {
    "collapsed": false
   },
   "outputs": [],
   "source": [
    "gamma = 0.95\n",
    "S = 3\n",
    "\n",
    "A_s = [[0,1],[0,1],[0,1]]\n",
    "\n",
    "P_s0_a0 = [0.45,0,0.55]\n",
    "P_s0_a1 = [0,0,1]\n",
    "P0 = np.matrix([P_s0_a0, P_s0_a1])\n",
    "\n",
    "P_s1_a0 = [0,0,1]\n",
    "P_s1_a1 = [0.5,0.4,0.1]\n",
    "P1 = np.matrix([P_s1_a0, P_s1_a1])\n",
    "\n",
    "P_s2_a0 = [0.6,0,0.4]\n",
    "P_s2_a1 = [0,0.9,0.1]\n",
    "P2 = np.matrix([P_s2_a0, P_s2_a1])\n",
    "\n",
    "P = np.array([P0,P1,P2])"
   ]
  },
  {
   "cell_type": "code",
   "execution_count": 5,
   "metadata": {
    "collapsed": true
   },
   "outputs": [],
   "source": [
    "R = np.array([\n",
    "        [-0.4,0],\n",
    "        [2,0],\n",
    "        [-1,-.5]\n",
    "    ])"
   ]
  },
  {
   "cell_type": "markdown",
   "metadata": {},
   "source": [
    "## Q2) Value iteration"
   ]
  },
  {
   "cell_type": "code",
   "execution_count": 6,
   "metadata": {
    "collapsed": true
   },
   "outputs": [],
   "source": [
    "# direclty compute the optimal bellman operator\n",
    "\n",
    "def optimal_bellman_operator(W, gamma = 0.95):\n",
    "    mat = R[:,:] + gamma * np.dot(P[:,:,:], W)\n",
    "    return np.max(mat, axis=1)"
   ]
  },
  {
   "cell_type": "code",
   "execution_count": 7,
   "metadata": {
    "collapsed": false,
    "scrolled": true
   },
   "outputs": [],
   "source": [
    "# Use d* to find the optimal value function in order to compute error\n",
    "\n",
    "d_star = [1,0,1]\n",
    "r_star = [R[i,d_star[i]] for i in range(3)]\n",
    "P_star = np.array([P[i, d_star[i],:] for i in range(3)])\n",
    "V_star = np.dot(np.linalg.inv(np.eye(3)-gamma*P_star), r_star)"
   ]
  },
  {
   "cell_type": "code",
   "execution_count": 8,
   "metadata": {
    "collapsed": false
   },
   "outputs": [
    {
     "data": {
      "text/plain": [
       "array([ 12.393531 ,  14.393531 ,  13.0458221])"
      ]
     },
     "execution_count": 8,
     "metadata": {},
     "output_type": "execute_result"
    }
   ],
   "source": [
    "V_star"
   ]
  },
  {
   "cell_type": "markdown",
   "metadata": {},
   "source": [
    "### <font color=purple>Value iteration"
   ]
  },
  {
   "cell_type": "code",
   "execution_count": 48,
   "metadata": {
    "collapsed": true
   },
   "outputs": [],
   "source": [
    "max_iter = 100\n",
    "precision = 0.01\n",
    "n_iter = 0\n",
    "V0 = [22,0.31,-13]\n",
    "V = V0\n",
    "errors = []\n",
    "keep_going = True\n",
    "while n_iter < max_iter and keep_going:\n",
    "    new_V = optimal_bellman_operator(V)\n",
    "    error = np.max(np.abs(new_V-V_star))\n",
    "    errors.append(error)\n",
    "    if np.max(np.abs(new_V-V)) < precision:\n",
    "        keep_going = False\n",
    "    V = new_V\n",
    "    n_iter +=1"
   ]
  },
  {
   "cell_type": "code",
   "execution_count": 49,
   "metadata": {
    "collapsed": false
   },
   "outputs": [
    {
     "name": "stdout",
     "output_type": "stream",
     "text": [
      "----\n",
      "Reached iteration 68, final error : 0.1862887320619535\n",
      "Final value function found : [ 12.20724227  14.20724227  12.85957167]\n",
      "----\n"
     ]
    }
   ],
   "source": [
    "print(\"----\")\n",
    "print(\"Reached iteration {}, final error : {}\".format(n_iter, error))\n",
    "print(\"Final value function found : {}\".format(V))\n",
    "print(\"----\")"
   ]
  },
  {
   "cell_type": "code",
   "execution_count": 50,
   "metadata": {
    "collapsed": false
   },
   "outputs": [
    {
     "data": {
      "image/png": "[encoded data removed]",
      "text/plain": [
       "<matplotlib.figure.Figure at 0x107392a20>"
      ]
     },
     "metadata": {},
     "output_type": "display_data"
    }
   ],
   "source": [
    "plt.plot(range(len(errors)),errors)\n",
    "plt.xlabel(\"number of iterations\")\n",
    "plt.ylabel(\"error\")\n",
    "plt.title('Error to optimality')\n",
    "plt.show()"
   ]
  },
  {
   "cell_type": "markdown",
   "metadata": {},
   "source": [
    "#### (Optional) deduce the optimal policy from V*"
   ]
  },
  {
   "cell_type": "code",
   "execution_count": 12,
   "metadata": {
    "collapsed": true
   },
   "outputs": [],
   "source": [
    "mat = R[:,:] + gamma * np.dot(P[:,:,:], V)\n",
    "optimal_policy_found = np.argmax(mat, axis=1)"
   ]
  },
  {
   "cell_type": "code",
   "execution_count": 13,
   "metadata": {
    "collapsed": false
   },
   "outputs": [
    {
     "name": "stdout",
     "output_type": "stream",
     "text": [
      "optimal policy found is [1 0 1]\n"
     ]
    }
   ],
   "source": [
    "print(\"optimal policy found is {}\".format(optimal_policy_found))"
   ]
  },
  {
   "cell_type": "markdown",
   "metadata": {},
   "source": [
    "## Q3) Policy iteration"
   ]
  },
  {
   "cell_type": "markdown",
   "metadata": {},
   "source": [
    "###  <font color=purple>Policy Iteration:"
   ]
  },
  {
   "cell_type": "code",
   "execution_count": 14,
   "metadata": {
    "collapsed": false
   },
   "outputs": [],
   "source": [
    "#initial policy\n",
    "p0 = np.array([0,0,0])\n",
    "p = p0\n",
    "\n",
    "max_iter = 100\n",
    "n_iter = 0\n",
    "keep_going = True\n",
    "V_pi= [0,0,0]\n",
    "\n",
    "while n_iter < max_iter and (keep_going):\n",
    "    # Policy evaluation\n",
    "    r_pi = [R[i,p[i]] for i in range(3)]\n",
    "    P_pi = np.array([P[i, p[i],:] for i in range(3)])\n",
    "    new_V_pi = np.dot(np.linalg.inv(np.eye(3)-gamma*P_pi), r_pi)\n",
    "    \n",
    "    #stopping test\n",
    "    keep_going = (np.max(np.abs(new_V_pi-V_pi))) != 0\n",
    "    V_pi = new_V_pi\n",
    "    \n",
    "    \n",
    "    # Policy improvement\n",
    "    mat = R[:,:] + gamma * np.dot(P[:,:,:], new_V_pi)\n",
    "    p = np.argmax(mat, axis=1)\n",
    "    \n",
    "    n_iter +=1"
   ]
  },
  {
   "cell_type": "code",
   "execution_count": 15,
   "metadata": {
    "collapsed": false,
    "scrolled": true
   },
   "outputs": [
    {
     "data": {
      "text/plain": [
       "array([ 12.393531 ,  14.393531 ,  13.0458221])"
      ]
     },
     "execution_count": 15,
     "metadata": {},
     "output_type": "execute_result"
    }
   ],
   "source": [
    "V_pi"
   ]
  },
  {
   "cell_type": "code",
   "execution_count": 16,
   "metadata": {
    "collapsed": false,
    "scrolled": true
   },
   "outputs": [
    {
     "name": "stdout",
     "output_type": "stream",
     "text": [
      "optimal policy [1 0 1] found in 3 iterations\n"
     ]
    }
   ],
   "source": [
    "print(\"optimal policy {} found in {} iterations\".format(p, n_iter))"
   ]
  },
  {
   "cell_type": "code",
   "execution_count": 17,
   "metadata": {
    "collapsed": true
   },
   "outputs": [],
   "source": [
    "# Only 3 iterations !"
   ]
  },
  {
   "cell_type": "markdown",
   "metadata": {},
   "source": [
    "The second method appear to converge in very few iterations (3 compare to more than 60 for the first method) and this is a great advantage.\n",
    "Nonetheless, for each iteration we have to inverse a matrix (or at least to solve a linear system), operation that can be very time consuming.\n"
   ]
  },
  {
   "cell_type": "markdown",
   "metadata": {},
   "source": [
    "## <font color=green>II] Reinforcement Learning"
   ]
  },
  {
   "cell_type": "code",
   "execution_count": 18,
   "metadata": {
    "collapsed": true
   },
   "outputs": [],
   "source": [
    "%matplotlib inline\n",
    "import matplotlib.pyplot as plt\n",
    "from gridworld import *\n",
    "from gridrender import *\n",
    "import time"
   ]
  },
  {
   "cell_type": "markdown",
   "metadata": {
    "collapsed": true
   },
   "source": [
    "### Policy Evaluation (First-visit Monte-Carlo)"
   ]
  },
  {
   "cell_type": "code",
   "execution_count": 19,
   "metadata": {
    "collapsed": true
   },
   "outputs": [],
   "source": [
    "# I directly computed V as J does not depend on Q"
   ]
  },
  {
   "cell_type": "code",
   "execution_count": 44,
   "metadata": {
    "collapsed": false
   },
   "outputs": [],
   "source": [
    "env = GridWorld1\n",
    "policy = [0, 0, 0, 0, 3, 0, 0, 0, 0, 0, 3] #going right if possible, else up\n",
    "gamma = 0.95\n",
    "v_q4 = np.array([0.87691855, 0.92820033, 0.98817903, 0.00000000, 0.67106071, -0.99447514,\n",
    "                 0.00000000, -0.82847001, -0.87691855,-0.93358351, -0.99447514])\n",
    "\n",
    "\n",
    "n_simulation = 1500\n",
    "\n",
    "# reasonable T_max for not being reached too many times (with a totally deterministic policy, we would be sure\n",
    "# to reach a termination state within 4 move, but as we have a 10 percent chance of not following our decision,\n",
    "# we need to have a higher T_max in order to prevent us to reach T_max too many times.\n",
    "T_max = 15\n",
    "\n",
    "\n",
    "jjs = []\n",
    "\n",
    "sum_of_rewards = {}\n",
    "for i in range(n_simulation):\n",
    "    term = False\n",
    "    x_0 = env.reset()\n",
    "    state = x_0\n",
    "    if x_0 not in sum_of_rewards:\n",
    "        sum_of_rewards[x_0] = []\n",
    "    t = 0\n",
    "    discounted_rewards = []\n",
    "    while (not term) and t < T_max:\n",
    "\n",
    "        action = policy[state]\n",
    "        state, reward, term = env.step(state,action)\n",
    "        discounted_rewards.append((gamma**t)*reward)\n",
    "        if t == T_max-1:\n",
    "            print(\"Tmax\")\n",
    "        t += 1\n",
    "    sum_of_rewards[x_0].append(np.sum(discounted_rewards))\n",
    "    \n",
    "    a = {}\n",
    "    for s in list(sum_of_rewards.keys()):\n",
    "        a[s] = np.mean(sum_of_rewards[s])\n",
    "\n",
    "    if len(a) < 11 : #check if all state have been to begining of a similation\n",
    "        #print(\"need more trajectory simulation\")\n",
    "        pass\n",
    "\n",
    "    V_n = []\n",
    "    for i in range(11):\n",
    "        if i in sum_of_rewards:\n",
    "            V_n.append(a[i])\n",
    "        else:\n",
    "            V_n.append(0)\n",
    "    V_n = np.array(V_n)\n",
    "\n",
    "    jj = (1/11)*np.sum(V_n - v_q4)\n",
    "    jjs.append(jj)"
   ]
  },
  {
   "cell_type": "code",
   "execution_count": 45,
   "metadata": {
    "collapsed": false
   },
   "outputs": [
    {
     "data": {
      "image/png": "[encoded data removed]",
      "text/plain": [
       "<matplotlib.figure.Figure at 0x1070bc080>"
      ]
     },
     "metadata": {},
     "output_type": "display_data"
    }
   ],
   "source": [
    "plt.plot(range(0,n_simulation), jjs)\n",
    "plt.plot(range(0,n_simulation), [0]*n_simulation, color =\"red\")\n",
    "plt.xlabel('number of iterations')\n",
    "plt.ylabel('J_n - J_π')\n",
    "plt.show()"
   ]
  },
  {
   "cell_type": "markdown",
   "metadata": {},
   "source": [
    "## Policy optimization"
   ]
  },
  {
   "cell_type": "markdown",
   "metadata": {},
   "source": [
    "* $T_{max}$ is chosen w.r.t to the rule of thumb described in the homework.\n",
    "* $1 - \\alpha$ corresponds to the confidence we have in the past. We thus choose $\\alpha_i(x,a) = \\frac{1}{1+N_i(x,a)} $ for it to be defined even when $N_i=0$\n",
    "\n",
    "As we have a finite number of state, $N_i(x,a) \\sim i$, as long as  $\\mu_0(x)>0$ for all x. We thus have that $\\sum{\\alpha_i} = + \\infty$ and $\\sum{\\alpha_i^2}<+\\infty$"
   ]
  },
  {
   "cell_type": "code",
   "execution_count": 34,
   "metadata": {
    "collapsed": true
   },
   "outputs": [],
   "source": [
    "#Explain choice of T_max and alpha!\n",
    "gamma = 0.95\n",
    "delta = 0.1\n",
    "Rmax = 1\n",
    "\n",
    "T_max = int(-np.log(delta/Rmax)/(1-gamma))"
   ]
  },
  {
   "cell_type": "code",
   "execution_count": 35,
   "metadata": {
    "collapsed": false
   },
   "outputs": [],
   "source": [
    "env = GridWorld1\n",
    "\n",
    "epsilon = 0.5\n",
    "\n",
    "v_star = np.array([0.877, 0.928, 0.988, 0, 0.824, 0.928, 0, 0.778, 0.824, 0.877, 0.828])\n",
    "\n",
    "n_states = 11\n",
    "n_actions = 4\n",
    "\n",
    "Q = np.zeros((n_states,n_actions))\n",
    "N = np.zeros((n_states,n_actions))\n",
    "\n",
    "max_iter = 10000\n",
    "n_iter = 0\n",
    "cumulutated_rewards = np.zeros(max_iter)\n",
    "errors = []\n",
    "\n",
    "while n_iter < max_iter:\n",
    "    x_0 = env.reset()\n",
    "    state = x_0\n",
    "    t = 0\n",
    "    term = False\n",
    "    while t < T_max and (not term):\n",
    "        t+=1\n",
    "        #choose an action\n",
    "        rdn = np.random.uniform()\n",
    "        if rdn > epsilon :\n",
    "            action = env.state_actions[state][np.argmax(Q[state,env.state_actions[state]])]\n",
    "        else:\n",
    "            action = np.random.choice(env.state_actions[state])\n",
    "            \n",
    "        N[state,action] +=1\n",
    "        alpha = 1/(1+ N[state,action]) \n",
    "        new_state, reward, term = env.step(state,action)\n",
    "        cumulutated_rewards[n_iter] += (gamma**t)*reward\n",
    "\n",
    "        Q[state,action] = (1-alpha)*Q[state,action] + alpha*(reward + gamma*np.max(Q[new_state,:]))\n",
    "        state = new_state\n",
    "        \n",
    "    n_iter+=1\n",
    "    greedy_policy = np.argmax(Q,1)\n",
    "    greedy_v = np.max(Q,1)\n",
    "    errors.append(np.max(np.abs(v_star-greedy_v)))"
   ]
  },
  {
   "cell_type": "code",
   "execution_count": 36,
   "metadata": {
    "collapsed": false
   },
   "outputs": [
    {
     "data": {
      "image/png": "[encoded data removed]",
      "text/plain": [
       "<matplotlib.figure.Figure at 0x106181400>"
      ]
     },
     "metadata": {},
     "output_type": "display_data"
    }
   ],
   "source": [
    "plt.plot(range(len(errors)),errors, color=\"r\")\n",
    "plt.title(\"Performance over all the other state ||v* − v_π_n||∞\")\n",
    "plt.xlabel(\"n\")\n",
    "plt.ylabel('||v* − v_π_n||∞')\n",
    "plt.show()"
   ]
  },
  {
   "cell_type": "code",
   "execution_count": 37,
   "metadata": {
    "collapsed": false,
    "scrolled": true
   },
   "outputs": [
    {
     "data": {
      "image/png": "[encoded data removed]",
      "text/plain": [
       "<matplotlib.figure.Figure at 0x106181320>"
      ]
     },
     "metadata": {},
     "output_type": "display_data"
    }
   ],
   "source": [
    "plt.plot(range(len(cumulutated_rewards)),cumulutated_rewards, color=\"b\")\n",
    "plt.title('cumulated reward over each episode')\n",
    "plt.show()"
   ]
  },
  {
   "cell_type": "markdown",
   "metadata": {},
   "source": [
    "As it is not really readable, we plot the cumulated untils the nth episode"
   ]
  },
  {
   "cell_type": "code",
   "execution_count": 41,
   "metadata": {
    "collapsed": false
   },
   "outputs": [
    {
     "data": {
      "image/png": "[encoded data removed]",
      "text/plain": [
       "<matplotlib.figure.Figure at 0x107159ef0>"
      ]
     },
     "metadata": {},
     "output_type": "display_data"
    }
   ],
   "source": [
    "plt.plot(range(len(cumulutated_rewards)),np.cumsum(cumulutated_rewards), color=\"b\")\n",
    "plt.title('cumulated reward over all episodes')\n",
    "plt.xlabel('n')\n",
    "plt.ylabel('cumulated reward until nth episode')\n",
    "plt.show()"
   ]
  },
  {
   "cell_type": "code",
   "execution_count": 42,
   "metadata": {
    "collapsed": true
   },
   "outputs": [],
   "source": [
    "def rapport_pos_neg(cumulutated_rewards):\n",
    "    n_pos = 0\n",
    "    n_neg = 0\n",
    "    res = []\n",
    "    for i in range(len(cumulutated_rewards)):\n",
    "        if cumulutated_rewards[i]>=0:\n",
    "            n_pos += 1\n",
    "        else:\n",
    "            n_neg += 1\n",
    "        if n_neg ==0:\n",
    "            res.append(0)\n",
    "        else:\n",
    "            res.append(n_pos/(n_neg+n_pos))\n",
    "        \n",
    "    return res"
   ]
  },
  {
   "cell_type": "markdown",
   "metadata": {},
   "source": [
    "We here plot the proportion of positive reward received until episode n"
   ]
  },
  {
   "cell_type": "code",
   "execution_count": 43,
   "metadata": {
    "collapsed": false
   },
   "outputs": [
    {
     "data": {
      "image/png": "[encoded data removed]",
      "text/plain": [
       "<matplotlib.figure.Figure at 0x1071afa20>"
      ]
     },
     "metadata": {},
     "output_type": "display_data"
    }
   ],
   "source": [
    "l =rapport_pos_neg(cumulutated_rewards)\n",
    "plt.plot(range(len(l)),l)\n",
    "plt.title('proportion of positive reward until episode n')\n",
    "plt.xlabel('n')\n",
    "plt.ylabel('proportion of positive label')\n",
    "plt.ylim(0,1)\n",
    "plt.show()"
   ]
  },
  {
   "cell_type": "markdown",
   "metadata": {},
   "source": [
    "We could have expected this proportion to tend to 1, but this figure enlights the trade-off\n",
    "we make between explotation and exploration. The negative reward we keep receiving after convergence are \n",
    "due the exploration!"
   ]
  },
  {
   "cell_type": "markdown",
   "metadata": {},
   "source": [
    "## Q6) Initial distribution"
   ]
  },
  {
   "cell_type": "markdown",
   "metadata": {},
   "source": [
    "As long as initial distribution has a positive mass on each state, the optimal policy won't be changed. In fact, in our algorithm, as $Q_n$ converges to $Q*$ independantly of $\\mu_0$, so $\\pi_n$ is going to converge to $\\pi*$."
   ]
  }
 ],
 "metadata": {
  "anaconda-cloud": {},
  "kernelspec": {
   "display_name": "Python [Root]",
   "language": "python",
   "name": "Python [Root]"
  },
  "language_info": {
   "codemirror_mode": {
    "name": "ipython",
    "version": 3
   },
   "file_extension": ".py",
   "mimetype": "text/x-python",
   "name": "python",
   "nbconvert_exporter": "python",
   "pygments_lexer": "ipython3",
   "version": "3.5.2"
  }
 },
 "nbformat": 4,
 "nbformat_minor": 0
}
