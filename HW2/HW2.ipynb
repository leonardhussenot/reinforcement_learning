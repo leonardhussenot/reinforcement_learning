{
 "cells": [
  {
   "cell_type": "markdown",
   "metadata": {},
   "source": [
    "## <font color=purple><center> Homework 2 : Reinforcement Learning\n",
    "### <font color=purple><center>  Exploration-Exploitation Dilemma (Stochastic Multi-Armed Bandit)\n",
    "#### <center> Léonard Hussenot\n",
    "<center> leonard.hussenot@gmail.com"
   ]
  },
  {
   "cell_type": "code",
   "execution_count": 2,
   "metadata": {
    "collapsed": false
   },
   "outputs": [],
   "source": [
    "%matplotlib inline\n",
    "from tqdm import tqdm\n",
    "import matplotlib.pyplot as plt\n",
    "import arms\n",
    "import numpy as np\n",
    "from linearmab_models import ToyLinearModel, ColdStartMovieLensModel"
   ]
  },
  {
   "cell_type": "markdown",
   "metadata": {},
   "source": [
    "## Stochastic Multi-Armed Bandits on Simulated Data"
   ]
  },
  {
   "cell_type": "markdown",
   "metadata": {},
   "source": [
    "### Bernoulli bandit models"
   ]
  },
  {
   "cell_type": "markdown",
   "metadata": {},
   "source": [
    "Here is the code  implementing UCB1, Thomson Sampling and naive policy (these function just produce one simulation, the mean over various simulations is realized in the plot function below)."
   ]
  },
  {
   "cell_type": "code",
   "execution_count": 3,
   "metadata": {
    "collapsed": true
   },
   "outputs": [],
   "source": [
    "def UCB1(T,MAB): \n",
    "    \n",
    "    K = len(MAB)\n",
    "    rew = []\n",
    "    draws = []\n",
    "    Na = np.array([0 for i in range(K)])\n",
    "    Sa = np.array([0 for i in range(K)])\n",
    "    for epoch in range(T):\n",
    "        rho = 0.2\n",
    "        \n",
    "        \n",
    "        if epoch < K:\n",
    "            a = epoch\n",
    "        else:\n",
    "            vec = Sa/Na + rho*np.sqrt(np.log(epoch)/(2*Na))\n",
    "            a = np.argmax(vec)\n",
    "\n",
    "        reward = MAB[a].sample()\n",
    "        rew.append(reward)\n",
    "        Sa[a] += reward\n",
    "        draws.append(a)\n",
    "        Na[a] += 1\n",
    "    return rew, draws"
   ]
  },
  {
   "cell_type": "code",
   "execution_count": 4,
   "metadata": {
    "collapsed": true
   },
   "outputs": [],
   "source": [
    "def TS(T,MAB):\n",
    "    \n",
    "    K = len(MAB)\n",
    "    rew = []\n",
    "    draws = []\n",
    "    Na = np.array([0 for i in range(K)])\n",
    "    Sa = np.array([0 for i in range(K)])\n",
    "    for epoch in range(T):\n",
    "        \n",
    "        param1 = Sa + 1\n",
    "        param2 = Na - Sa + 1\n",
    "        beta = np.random.beta(param1, param2)\n",
    "        \n",
    "        a = np.argmax(beta)\n",
    "\n",
    "        reward = MAB[a].sample()\n",
    "        rew.append(reward)\n",
    "        Sa[a] += reward\n",
    "        draws.append(a)\n",
    "        Na[a] += 1\n",
    "    return rew, draws"
   ]
  },
  {
   "cell_type": "code",
   "execution_count": 5,
   "metadata": {
    "collapsed": true
   },
   "outputs": [],
   "source": [
    "def naive(T,MAB):\n",
    "    \n",
    "    K = len(MAB)\n",
    "    rew = []\n",
    "    draws = []\n",
    "    Na = np.array([0 for i in range(K)])\n",
    "    Sa = np.array([0 for i in range(K)])\n",
    "    for epoch in range(T):        \n",
    "        if epoch < K:\n",
    "            a = epoch\n",
    "        else:\n",
    "            vec = Sa/Na\n",
    "            a = np.argmax(vec)\n",
    "\n",
    "        reward = MAB[a].sample()\n",
    "        rew.append(reward)\n",
    "        Sa[a] += reward\n",
    "        draws.append(a)\n",
    "        Na[a] += 1\n",
    "    return rew, draws"
   ]
  },
  {
   "cell_type": "markdown",
   "metadata": {},
   "source": [
    "This function implements Lai and Robbins lower bound for Bernouilli Bandit Model"
   ]
  },
  {
   "cell_type": "code",
   "execution_count": 6,
   "metadata": {
    "collapsed": true
   },
   "outputs": [],
   "source": [
    "def LaR(MAB):\n",
    "    means = [el.mean for el in MAB]\n",
    "    mu_max = np.argmax(means)\n",
    "    \n",
    "    C = 0\n",
    "    for i in range(len(MAB)):\n",
    "        if i != mu_max:\n",
    "            x = means[i]\n",
    "            y = means[mu_max]\n",
    "            kl = x*np.log(x/y)+(1-x)*np.log((1-x)/(1-y))\n",
    "            C += (y-x)/kl\n",
    "    return C"
   ]
  },
  {
   "cell_type": "markdown",
   "metadata": {},
   "source": [
    "We initialiaze two Multi-Armed-Bandits: \n",
    "* MAB is composed only of Bernouilli Arms\n",
    "* MAB 2 is composed of Bernouilli, Exponential and Beta arms"
   ]
  },
  {
   "cell_type": "code",
   "execution_count": 7,
   "metadata": {
    "collapsed": false
   },
   "outputs": [],
   "source": [
    "random_state = np.random.randint(1, 31244)\n",
    "\n",
    "# this is an example, please change the parameters or arms!\n",
    "arm1 = arms.ArmBernoulli(0.13, random_state=random_state)\n",
    "arm2 = arms.ArmBernoulli(0.38, random_state=random_state)\n",
    "arm3 = arms.ArmBernoulli(0.60, random_state=random_state)\n",
    "arm4 = arms.ArmBernoulli(0.70, random_state=random_state)\n",
    "\n",
    "\n",
    "\n",
    "MAB = [arm1, arm2, arm3, arm4]\n",
    "\n",
    "arm5 = arms.ArmBeta(5,4, random_state=random_state)\n",
    "arm6 = arms.ArmExp(9.4, random_state=random_state)\n",
    "arm7 = arms.ArmBeta(3,54, random_state=random_state)\n",
    "arm8 = arms.ArmExp(20,random_state=random_state)\n",
    "\n",
    "MAB2 = [arm5,arm2,arm6,arm7,arm8]"
   ]
  },
  {
   "cell_type": "markdown",
   "metadata": {},
   "source": [
    "This function repeats $nb\\_simu$ experiences for UCB1, TS and naive policy and plot the cumulative regrets."
   ]
  },
  {
   "cell_type": "code",
   "execution_count": 8,
   "metadata": {
    "collapsed": false
   },
   "outputs": [],
   "source": [
    "def plot(MAB, T, nb_simu, LAR = True):  ## taking the mean of the cumulative sum over nb_simu experiences\n",
    "\n",
    "    means = [el.mean for el in MAB]\n",
    "    mu_max = np.max(means)\n",
    "\n",
    "    reg11 = 0\n",
    "    for i in tqdm(range(1,nb_simu+1), desc=\"Simulating UCB1\"):\n",
    "        rew1, draws1 = UCB1(T, MAB)\n",
    "        reg1 = mu_max * np.arange(1, T + 1) - np.cumsum(rew1)\n",
    "        reg11 = (reg11*(i-1)+reg1)/i\n",
    "    reg22 = 0\n",
    "    for i in tqdm(range(1,nb_simu+1), desc=\"Simulating TS\"):\n",
    "        rew2, draws2 = TS(T, MAB)\n",
    "        reg2 = mu_max * np.arange(1, T + 1) - np.cumsum(rew2)\n",
    "        reg22 = (reg22*(i-1)+reg2)/i\n",
    "    reg33 = 0\n",
    "    for i in tqdm(range(1,nb_simu+1), desc=\"Simulating naive\"):\n",
    "        rew3, draws2 = naive(T, MAB)\n",
    "        reg3 = mu_max * np.arange(1, T + 1) - np.cumsum(rew3)\n",
    "        reg33 = (reg33*(i-1)+reg3)/i\n",
    "\n",
    "    C = LaR(MAB)\n",
    "\n",
    "    # reg3 = naive strategy\n",
    "\n",
    "\n",
    "    plt.figure(1, figsize=(10,7))\n",
    "    x = np.arange(1, T+1)\n",
    "    plt.plot(x, reg11, label='UCB1')\n",
    "    plt.plot(x, reg22, label='Thompson')\n",
    "    plt.plot(x, reg33, label='Naive')\n",
    "    if LAR:\n",
    "        plt.plot(x, np.log(x)*C, label = ' Lai and Robbins’ lower bound')\n",
    "    plt.legend()\n",
    "    plt.xlabel('Rounds')\n",
    "    plt.ylabel('Cumulative Regret')\n",
    "\n",
    "    plt.show()"
   ]
  },
  {
   "cell_type": "markdown",
   "metadata": {},
   "source": [
    "##### Plotting the results for a time Horizon of 5000 and 100 simulations"
   ]
  },
  {
   "cell_type": "code",
   "execution_count": 9,
   "metadata": {
    "collapsed": false
   },
   "outputs": [
    {
     "name": "stderr",
     "output_type": "stream",
     "text": [
      "Simulating UCB1: 100%|██████████| 100/100 [00:06<00:00, 15.51it/s]\n",
      "Simulating TS: 100%|██████████| 100/100 [00:12<00:00,  8.03it/s]\n",
      "Simulating naive: 100%|██████████| 100/100 [00:02<00:00, 34.49it/s]\n"
     ]
    },
    {
     "data": {
      "image/png": "[encoded data removed]",
      "text/plain": [
       "<matplotlib.figure.Figure at 0x105aec278>"
      ]
     },
     "metadata": {},
     "output_type": "display_data"
    }
   ],
   "source": [
    "#Only Bernouilli arms\n",
    "plot(MAB,5000,100)"
   ]
  },
  {
   "cell_type": "markdown",
   "metadata": {},
   "source": [
    "### Non-parametric bandits (bounded rewards)"
   ]
  },
  {
   "cell_type": "markdown",
   "metadata": {},
   "source": [
    "We modify the Thomson-Sampling in order to handle non-binary reward in [0,1]. "
   ]
  },
  {
   "cell_type": "markdown",
   "metadata": {},
   "source": [
    "When the reward $r$ is in $[0,1]$, we don't directly add it to $Sa$ but rather draw a bernoulli of probability $r$ and add the result to $Sa$."
   ]
  },
  {
   "cell_type": "code",
   "execution_count": 10,
   "metadata": {
    "collapsed": true
   },
   "outputs": [],
   "source": [
    "def TS(T,MAB): ## nb_simu in introduced in the plot function \n",
    "    K = len(MAB)\n",
    "    rew = []\n",
    "    draws = []\n",
    "    Na = np.array([0 for i in range(K)])\n",
    "    Sa = np.array([0 for i in range(K)])\n",
    "    for epoch in range(T):\n",
    "        \n",
    "        param1 = Sa +1\n",
    "        param2 = Na - Sa + 1\n",
    "        beta = np.random.beta(param1, param2)\n",
    "        \n",
    "        a = np.argmax(beta)\n",
    "\n",
    "        reward = MAB[a].sample()\n",
    "        rew.append(reward)\n",
    "        \n",
    "        \n",
    "        assert reward >= 0 and reward <=1\n",
    "        dice = np.random.uniform(0,1)\n",
    "        if dice > reward:\n",
    "            Sa[a] += 0\n",
    "        else:\n",
    "             Sa[a] += 1\n",
    "        \n",
    "        draws.append(a)\n",
    "        Na[a] += 1\n",
    "    return rew, draws"
   ]
  },
  {
   "cell_type": "markdown",
   "metadata": {},
   "source": [
    "We can test this new Thompson Sampling on MAB2, which also has non binary arms. The notion of complexity may still have a sense but cannot be computed as it was before."
   ]
  },
  {
   "cell_type": "code",
   "execution_count": 11,
   "metadata": {
    "collapsed": false
   },
   "outputs": [
    {
     "name": "stderr",
     "output_type": "stream",
     "text": [
      "Simulating UCB1: 100%|██████████| 100/100 [00:09<00:00, 10.52it/s]\n",
      "Simulating TS: 100%|██████████| 100/100 [00:17<00:00,  5.65it/s]\n",
      "Simulating naive: 100%|██████████| 100/100 [00:06<00:00, 14.86it/s]\n"
     ]
    },
    {
     "data": {
      "image/png": "[encoded data removed]",
      "text/plain": [
       "<matplotlib.figure.Figure at 0x105aec048>"
      ]
     },
     "metadata": {},
     "output_type": "display_data"
    }
   ],
   "source": [
    "#Not only bernouilli arms\n",
    "plot(MAB2,5000, 100, LAR=False)"
   ]
  },
  {
   "cell_type": "markdown",
   "metadata": {},
   "source": [
    "## Linear Bandit on Real Data"
   ]
  },
  {
   "cell_type": "markdown",
   "metadata": {},
   "source": [
    "We have, after computing the calculations over these matrices, that in order to compute $\\beta$ and $\\theta$ as efficiently as possible, we can use the following formulas : \n",
    "* $Z_{t+1}^T.Z_{t+1}=Z_{t}^T.Z_{t} +\\phi_{a_{t+1}}.\\phi_{a_{t+1}}^T$\n",
    "* $Z_{t+1}^T.y_{t+1}=Z_{t}^T.y_{t}+r_{t+1}.\\phi_{a_{t+1}}$"
   ]
  },
  {
   "cell_type": "markdown",
   "metadata": {},
   "source": [
    "We chose:\n",
    "* $\\alpha_t = 10 + 1/(1+t)$\n",
    "* $\\lambda = 10e-8$  ($\\lambda$ needs to be small enough for our algorithm to approximate well $\\theta$)"
   ]
  },
  {
   "cell_type": "code",
   "execution_count": 15,
   "metadata": {
    "collapsed": false
   },
   "outputs": [],
   "source": [
    "def linUCB(MAB, T, nb_simu):\n",
    "    lamb = 10e-8\n",
    "    n_actions = MAB.n_actions\n",
    "    Na = np.array([0 for i in range(n_actions)])\n",
    "    \n",
    "    n_features = MAB.n_features\n",
    "    real_theta = (MAB.real_theta).reshape((n_features,1))\n",
    "    regret = np.zeros((nb_simu, T))\n",
    "    norm_dist = np.zeros((nb_simu, T))\n",
    "    \n",
    "    for k in tqdm(range(nb_simu), desc=\"Simulating {}\".format('UCB1')):\n",
    "        \n",
    "        beta = np.zeros((n_actions,1))\n",
    "        features = (MAB.features).T\n",
    "\n",
    "        theta = np.random.randn(len(real_theta),1)\n",
    "\n",
    "        ZZlI = lamb * np.eye(n_features)\n",
    "        Zy = np.zeros((n_features,1))\n",
    "\n",
    "        for t in range(T):\n",
    "            v = np.dot(features.T,theta) + beta\n",
    "            a = np.argmax(v)\n",
    "            Na[a] +=1\n",
    "            r = MAB.reward(a)\n",
    "\n",
    "            f = features[:,a].reshape((n_features,1))\n",
    "\n",
    "            Zy += r[0]*f\n",
    "            ZZlI += np.dot(f, f.T)\n",
    "\n",
    "            inverse = np.linalg.inv(ZZlI)\n",
    "            \n",
    "            theta = np.dot(inverse,Zy)\n",
    "            alpha = 10 + 1/(1+t)\n",
    "            beta = alpha * np.sqrt(np.diag(np.dot(np.dot(features.T,inverse),features)))\n",
    "            beta = np.reshape(beta,(n_actions,1))\n",
    "\n",
    "            regret[k, t] = MAB.best_arm_reward() - r\n",
    "            norm_dist[k, t] = np.linalg.norm(theta - real_theta, 2)\n",
    "    \n",
    "    mean_norms = np.mean(norm_dist,0)\n",
    "    mean_regret = np.mean(regret,0)\n",
    "                \n",
    "    return mean_norms, mean_regret, theta, Na"
   ]
  },
  {
   "cell_type": "markdown",
   "metadata": {},
   "source": [
    "We also implement a random and a $\\epsilon$-greedy policy for linear MABs."
   ]
  },
  {
   "cell_type": "code",
   "execution_count": 16,
   "metadata": {
    "collapsed": true
   },
   "outputs": [],
   "source": [
    "def random(MAB, T, nb_simu):\n",
    "\n",
    "    n_actions = MAB.n_actions\n",
    "    n_features = MAB.n_features\n",
    "    \n",
    "    regret = np.zeros((nb_simu, T))\n",
    "    #norm_dist = np.zeros((nb_simu, T))\n",
    "    \n",
    "    real_theta = MAB.real_theta\n",
    "\n",
    "    for k in tqdm(range(nb_simu), desc=\"Simulating {}\".format('Random Policy')):\n",
    "        for epoch in range(T):\n",
    "            \n",
    "            a = np.random.choice(range(n_actions))\n",
    "            r = MAB.reward(a)\n",
    "\n",
    "            regret[k, epoch] = MAB.best_arm_reward() - r\n",
    "            #norm_dist[k, epoch] = np.linalg.norm(theta - MAB.real_theta, 2)\n",
    "\n",
    "            \n",
    "    #mean_norms = np.mean(norm_dist,0)\n",
    "    mean_regret = np.mean(regret,0)\n",
    "    \n",
    "    return mean_regret"
   ]
  },
  {
   "cell_type": "markdown",
   "metadata": {},
   "source": [
    "We chose $\\epsilon = 0.1$ for our $\\epsilon$-greedy policy."
   ]
  },
  {
   "cell_type": "code",
   "execution_count": 17,
   "metadata": {
    "collapsed": true
   },
   "outputs": [],
   "source": [
    "def greedy(MAB, T, nb_simu):\n",
    "    eps = 0.1\n",
    "    \n",
    "    lamb = 10e-8\n",
    "    n_actions = MAB.n_actions\n",
    "    Na = np.array([0 for i in range(n_actions)])\n",
    "    \n",
    "    n_features = MAB.n_features\n",
    "    real_theta = (MAB.real_theta).reshape((n_features,1))\n",
    "    regret = np.zeros((nb_simu, T))\n",
    "    norm_dist = np.zeros((nb_simu, T))\n",
    "    \n",
    "    for k in tqdm(range(nb_simu), desc=\"Simulating {}\".format('Greedy Policy')):\n",
    "        \n",
    "        beta = np.zeros((n_actions,1))\n",
    "        features = (MAB.features).T\n",
    "\n",
    "        theta = np.random.randn(len(real_theta),1)\n",
    "\n",
    "        ZZlI = lamb * np.eye(n_features)\n",
    "        Zy = np.zeros((n_features,1))\n",
    "\n",
    "        for t in range(T):\n",
    "            v = np.dot(features.T,theta) + beta\n",
    "            \n",
    "            dice = np.random.uniform()\n",
    "            decision = (dice > eps)\n",
    "            if decision:\n",
    "                a = np.argmax(v)\n",
    "            else:\n",
    "                a = np.random.choice(range(len(v)))\n",
    "            Na[a] +=1\n",
    "            r = MAB.reward(a)\n",
    "\n",
    "            f = features[:,a].reshape((n_features,1))\n",
    "\n",
    "            Zy += r[0]*f\n",
    "            ZZlI += np.dot(f, f.T)\n",
    "\n",
    "            inverse = np.linalg.inv(ZZlI)\n",
    "            \n",
    "            theta = np.dot(inverse,Zy)\n",
    "            alpha = 10 + 1/(1+t)\n",
    "            beta = alpha * np.sqrt(np.diag(np.dot(np.dot(features.T,inverse),features)))\n",
    "            beta = np.reshape(beta,(n_actions,1))\n",
    "\n",
    "            regret[k, t] = MAB.best_arm_reward() - r\n",
    "            norm_dist[k, t] = np.linalg.norm(theta - real_theta, 2)\n",
    "    \n",
    "    mean_norms = np.mean(norm_dist,0)\n",
    "    mean_regret = np.mean(regret,0)\n",
    "                \n",
    "    return mean_norms, mean_regret"
   ]
  },
  {
   "cell_type": "code",
   "execution_count": 30,
   "metadata": {
    "collapsed": false
   },
   "outputs": [],
   "source": [
    "def plot2(MAB, T, nb_simu):\n",
    "    \n",
    "    mean_norms1, mean_regret1, t, _ = linUCB(MAB, T, nb_simu)\n",
    "    mean_norms2, mean_regret2 = greedy(MAB, T, nb_simu)\n",
    "    mean_regret3 = random(MAB, T, nb_simu)\n",
    "    \n",
    "    plt.figure(1, figsize=(12,6))\n",
    "    \n",
    "    plt.subplot(121)\n",
    "    plt.plot(mean_norms1, label=\"linUCB\")\n",
    "    plt.plot(mean_norms2, label=\"Greedy Policy\")\n",
    "    #plt.plot(mean_norms3, label=\"Random Policy\")\n",
    "    plt.ylabel('d(theta, theta_hat)')\n",
    "    plt.xlim((0,60))\n",
    "    #plt.ylim((0,50))\n",
    "    plt.xlabel('Rounds')\n",
    "    plt.legend()\n",
    "    plt.title('Convergence in L2 norm')\n",
    "\n",
    "    plt.subplot(122)\n",
    "    plt.plot(mean_regret1.cumsum(), label=\"linUCB\")\n",
    "    plt.plot(mean_regret2.cumsum(), label=\"Greedy Policy\")\n",
    "    plt.plot(mean_regret3.cumsum(), label=\"Random Policy\")\n",
    "    plt.ylabel('Cumulative Regret')\n",
    "    #plt.xlim((0,60))\n",
    "    #plt.ylim((0,50))\n",
    "    plt.xlabel('Rounds')\n",
    "    plt.legend()\n",
    "    plt.title('Cumulative Regret in time')\n",
    "    \n",
    "    \n",
    "    plt.show()\n",
    "    return mean_regret2"
   ]
  },
  {
   "cell_type": "code",
   "execution_count": 31,
   "metadata": {
    "collapsed": false,
    "scrolled": true
   },
   "outputs": [],
   "source": [
    "movielens = ColdStartMovieLensModel()"
   ]
  },
  {
   "cell_type": "markdown",
   "metadata": {},
   "source": [
    "We can now plot our algorithms for the movielens prediction problem."
   ]
  },
  {
   "cell_type": "code",
   "execution_count": 32,
   "metadata": {
    "collapsed": false
   },
   "outputs": [
    {
     "name": "stderr",
     "output_type": "stream",
     "text": [
      "Simulating UCB1: 100%|██████████| 500/500 [00:34<00:00, 14.50it/s]\n",
      "Simulating Greedy Policy: 100%|██████████| 500/500 [00:31<00:00, 15.88it/s]\n",
      "Simulating Random Policy: 100%|██████████| 500/500 [00:05<00:00, 97.66it/s]\n"
     ]
    },
    {
     "data": {
      "image/png": "[encoded data removed]",
      "text/plain": [
       "<matplotlib.figure.Figure at 0x106578668>"
      ]
     },
     "metadata": {},
     "output_type": "display_data"
    }
   ],
   "source": [
    "t = plot2(movielens, T=200, nb_simu=500)"
   ]
  },
  {
   "cell_type": "markdown",
   "metadata": {
    "collapsed": true
   },
   "source": [
    "* Performances are, as expected, better much better for our linUCB than the random policy in term of regret (which can be understood as pure exploration and no exploitation).\n",
    "* Performances are also better than the $\\epsilon$-greedy algorithm that, due to the 10% chance of taking a random action, is not as good as linUCB in term of exploitation."
   ]
  }
 ],
 "metadata": {
  "anaconda-cloud": {},
  "kernelspec": {
   "display_name": "Python [Root]",
   "language": "python",
   "name": "Python [Root]"
  },
  "language_info": {
   "codemirror_mode": {
    "name": "ipython",
    "version": 3
   },
   "file_extension": ".py",
   "mimetype": "text/x-python",
   "name": "python",
   "nbconvert_exporter": "python",
   "pygments_lexer": "ipython3",
   "version": "3.5.2"
  }
 },
 "nbformat": 4,
 "nbformat_minor": 0
}
